{
  "cells": [
    {
      "cell_type": "markdown",
      "metadata": {
        "id": "Rb7riTsljyLV"
      },
      "source": [
        "# SuperINVI — Clean Setup (Fixed)\n",
        "This notebook is **auto-generated** from your original upload and fixes:\n",
        "- Duplicated Node.js/npm install steps\n",
        "- Commented-out `%%writefile` blocks (which prevented `server.js`/`index.html` from being created)\n",
        "- Non-deterministic cell order\n",
        "- Missing CORS between ports 8000 and 3000\n",
        "\n",
        "**Run cells top-to-bottom.** Backend runs on **:3000**, frontend served on **:8000**.\n"
      ],
      "id": "Rb7riTsljyLV"
    },
    {
      "cell_type": "code",
      "metadata": {
        "id": "MGlF0d-hjyLZ"
      },
      "execution_count": 1,
      "outputs": [],
      "source": [
        "# Kill stale ports (ignore errors if nothing is running)\n",
        "!fuser -k 3000/tcp || true\n",
        "!fuser -k 8000/tcp || true\n"
      ],
      "id": "MGlF0d-hjyLZ"
    },
    {
      "cell_type": "code",
      "metadata": {
        "colab": {
          "base_uri": "https://localhost:8080/"
        },
        "id": "TtbPa1vujyLa",
        "outputId": "bb985625-2516-4b70-82ae-913da1fff00f"
      },
      "execution_count": 2,
      "outputs": [
        {
          "output_type": "stream",
          "name": "stdout",
          "text": [
            "\r0% [Working]\r            \rHit:1 https://cli.github.com/packages stable InRelease\n",
            "\r0% [Connecting to archive.ubuntu.com] [Connecting to security.ubuntu.com] [Conn\r                                                                               \rGet:2 https://cloud.r-project.org/bin/linux/ubuntu jammy-cran40/ InRelease [3,632 B]\n",
            "Get:3 https://developer.download.nvidia.com/compute/cuda/repos/ubuntu2204/x86_64  InRelease [1,581 B]\n",
            "Get:4 https://r2u.stat.illinois.edu/ubuntu jammy InRelease [6,555 B]\n",
            "Get:5 http://security.ubuntu.com/ubuntu jammy-security InRelease [129 kB]\n",
            "Hit:6 http://archive.ubuntu.com/ubuntu jammy InRelease\n",
            "Get:7 https://developer.download.nvidia.com/compute/cuda/repos/ubuntu2204/x86_64  Packages [2,008 kB]\n",
            "Get:8 http://archive.ubuntu.com/ubuntu jammy-updates InRelease [128 kB]\n",
            "Get:9 https://r2u.stat.illinois.edu/ubuntu jammy/main amd64 Packages [2,798 kB]\n",
            "Get:10 https://ppa.launchpadcontent.net/deadsnakes/ppa/ubuntu jammy InRelease [18.1 kB]\n",
            "Hit:11 https://ppa.launchpadcontent.net/graphics-drivers/ppa/ubuntu jammy InRelease\n",
            "Get:12 http://archive.ubuntu.com/ubuntu jammy-backports InRelease [127 kB]\n",
            "Get:13 https://r2u.stat.illinois.edu/ubuntu jammy/main all Packages [9,281 kB]\n",
            "Hit:14 https://ppa.launchpadcontent.net/ubuntugis/ppa/ubuntu jammy InRelease\n",
            "Get:15 http://security.ubuntu.com/ubuntu jammy-security/restricted amd64 Packages [5,496 kB]\n",
            "Get:16 https://ppa.launchpadcontent.net/deadsnakes/ppa/ubuntu jammy/main amd64 Packages [33.2 kB]\n",
            "Get:17 http://archive.ubuntu.com/ubuntu jammy-updates/multiverse amd64 Packages [69.1 kB]\n",
            "Get:18 http://archive.ubuntu.com/ubuntu jammy-updates/universe amd64 Packages [1,576 kB]\n",
            "Get:19 http://security.ubuntu.com/ubuntu jammy-security/multiverse amd64 Packages [71.0 kB]\n",
            "Get:20 http://security.ubuntu.com/ubuntu jammy-security/main amd64 Packages [3,327 kB]\n",
            "Get:21 http://security.ubuntu.com/ubuntu jammy-security/universe amd64 Packages [1,274 kB]\n",
            "Get:22 http://archive.ubuntu.com/ubuntu jammy-updates/restricted amd64 Packages [5,691 kB]\n",
            "Get:23 http://archive.ubuntu.com/ubuntu jammy-updates/main amd64 Packages [3,646 kB]\n",
            "Fetched 35.7 MB in 4s (9,993 kB/s)\n",
            "Reading package lists... Done\n",
            "W: Skipping acquire of configured file 'main/source/Sources' as repository 'https://r2u.stat.illinois.edu/ubuntu jammy InRelease' does not seem to provide it (sources.list entry misspelt?)\n",
            "\u001b[38;5;79m2025-09-22 11:15:20 - Installing pre-requisites\u001b[0m\n",
            "Hit:1 https://cli.github.com/packages stable InRelease\n",
            "Hit:2 https://cloud.r-project.org/bin/linux/ubuntu jammy-cran40/ InRelease\n",
            "Hit:3 https://developer.download.nvidia.com/compute/cuda/repos/ubuntu2204/x86_64  InRelease\n",
            "Hit:4 http://archive.ubuntu.com/ubuntu jammy InRelease\n",
            "Hit:5 http://security.ubuntu.com/ubuntu jammy-security InRelease\n",
            "Hit:6 https://r2u.stat.illinois.edu/ubuntu jammy InRelease\n",
            "Hit:7 http://archive.ubuntu.com/ubuntu jammy-updates InRelease\n",
            "Hit:8 http://archive.ubuntu.com/ubuntu jammy-backports InRelease\n",
            "Hit:9 https://ppa.launchpadcontent.net/deadsnakes/ppa/ubuntu jammy InRelease\n",
            "Hit:10 https://ppa.launchpadcontent.net/graphics-drivers/ppa/ubuntu jammy InRelease\n",
            "Hit:11 https://ppa.launchpadcontent.net/ubuntugis/ppa/ubuntu jammy InRelease\n",
            "Reading package lists... Done\n",
            "W: Skipping acquire of configured file 'main/source/Sources' as repository 'https://r2u.stat.illinois.edu/ubuntu jammy InRelease' does not seem to provide it (sources.list entry misspelt?)\n",
            "Reading package lists... Done\n",
            "Building dependency tree... Done\n",
            "Reading state information... Done\n",
            "ca-certificates is already the newest version (20240203~22.04.1).\n",
            "curl is already the newest version (7.81.0-1ubuntu1.20).\n",
            "gnupg is already the newest version (2.2.27-3ubuntu2.4).\n",
            "gnupg set to manually installed.\n",
            "The following NEW packages will be installed:\n",
            "  apt-transport-https\n",
            "0 upgraded, 1 newly installed, 0 to remove and 44 not upgraded.\n",
            "Need to get 1,510 B of archives.\n",
            "After this operation, 170 kB of additional disk space will be used.\n",
            "Get:1 http://archive.ubuntu.com/ubuntu jammy-updates/universe amd64 apt-transport-https all 2.4.14 [1,510 B]\n",
            "Fetched 1,510 B in 0s (5,181 B/s)\n",
            "Selecting previously unselected package apt-transport-https.\n",
            "(Reading database ... 126435 files and directories currently installed.)\n",
            "Preparing to unpack .../apt-transport-https_2.4.14_all.deb ...\n",
            "Unpacking apt-transport-https (2.4.14) ...\n",
            "Setting up apt-transport-https (2.4.14) ...\n",
            "Hit:1 https://cloud.r-project.org/bin/linux/ubuntu jammy-cran40/ InRelease\n",
            "Hit:2 https://cli.github.com/packages stable InRelease\n",
            "Hit:3 https://developer.download.nvidia.com/compute/cuda/repos/ubuntu2204/x86_64  InRelease\n",
            "Get:4 https://deb.nodesource.com/node_22.x nodistro InRelease [12.1 kB]\n",
            "Hit:5 http://security.ubuntu.com/ubuntu jammy-security InRelease\n",
            "Hit:6 http://archive.ubuntu.com/ubuntu jammy InRelease\n",
            "Hit:7 https://r2u.stat.illinois.edu/ubuntu jammy InRelease\n",
            "Get:8 https://deb.nodesource.com/node_22.x nodistro/main amd64 Packages [7,664 B]\n",
            "Hit:9 http://archive.ubuntu.com/ubuntu jammy-updates InRelease\n",
            "Hit:10 http://archive.ubuntu.com/ubuntu jammy-backports InRelease\n",
            "Hit:11 https://ppa.launchpadcontent.net/deadsnakes/ppa/ubuntu jammy InRelease\n",
            "Hit:12 https://ppa.launchpadcontent.net/graphics-drivers/ppa/ubuntu jammy InRelease\n",
            "Hit:13 https://ppa.launchpadcontent.net/ubuntugis/ppa/ubuntu jammy InRelease\n",
            "Fetched 19.8 kB in 1s (15.1 kB/s)\n",
            "Reading package lists... Done\n",
            "W: Skipping acquire of configured file 'main/source/Sources' as repository 'https://r2u.stat.illinois.edu/ubuntu jammy InRelease' does not seem to provide it (sources.list entry misspelt?)\n",
            "\u001b[1;34m2025-09-22 11:15:34 - Repository configured successfully.\u001b[0m\n",
            "\u001b[38;5;79m2025-09-22 11:15:34 - To install Node.js, run: apt-get install nodejs -y\u001b[0m\n",
            "\u001b[38;5;79m2025-09-22 11:15:34 - You can use N|solid Runtime as a node.js alternative\u001b[0m\n",
            "\u001b[1;32m2025-09-22 11:15:34 - To install N|solid Runtime, run: apt-get install nsolid -y \n",
            "\u001b[0m\n",
            "Reading package lists... Done\n",
            "Building dependency tree... Done\n",
            "Reading state information... Done\n",
            "The following NEW packages will be installed:\n",
            "  nodejs\n",
            "0 upgraded, 1 newly installed, 0 to remove and 44 not upgraded.\n",
            "Need to get 37.0 MB of archives.\n",
            "After this operation, 225 MB of additional disk space will be used.\n",
            "Get:1 https://deb.nodesource.com/node_22.x nodistro/main amd64 nodejs amd64 22.19.0-1nodesource1 [37.0 MB]\n",
            "Fetched 37.0 MB in 1s (63.1 MB/s)\n",
            "Selecting previously unselected package nodejs.\n",
            "(Reading database ... 126439 files and directories currently installed.)\n",
            "Preparing to unpack .../nodejs_22.19.0-1nodesource1_amd64.deb ...\n",
            "Unpacking nodejs (22.19.0-1nodesource1) ...\n",
            "Setting up nodejs (22.19.0-1nodesource1) ...\n",
            "Processing triggers for man-db (2.10.2-1) ...\n",
            "\u001b[1G\u001b[0K⠙\u001b[1G\u001b[0K⠹\u001b[1G\u001b[0K⠸\u001b[1G\u001b[0K⠼\u001b[1G\u001b[0K⠴\u001b[1G\u001b[0K⠦\u001b[1G\u001b[0K⠧\u001b[1G\u001b[0K⠇\u001b[1G\u001b[0K⠏\u001b[1G\u001b[0K⠋\u001b[1G\u001b[0K⠙\u001b[1G\u001b[0K⠹\u001b[1G\u001b[0K⠸\u001b[1G\u001b[0K⠼\u001b[1G\u001b[0K⠴\u001b[1G\u001b[0K⠦\u001b[1G\u001b[0K⠧\u001b[1G\u001b[0K⠇\u001b[1G\u001b[0K⠏\u001b[1G\u001b[0K⠋\u001b[1G\u001b[0K⠙\u001b[1G\u001b[0K⠹\u001b[1G\u001b[0K⠸\u001b[1G\u001b[0K⠼\u001b[1G\u001b[0K⠴\u001b[1G\u001b[0K⠦\u001b[1G\u001b[0K⠧\u001b[1G\u001b[0K⠇\u001b[1G\u001b[0K⠏\u001b[1G\u001b[0K⠋\u001b[1G\u001b[0K⠙\u001b[1G\u001b[0K⠹\u001b[1G\u001b[0K⠸\u001b[1G\u001b[0K⠼\u001b[1G\u001b[0K⠴\u001b[1G\u001b[0K⠦\u001b[1G\u001b[0K⠧\u001b[1G\u001b[0K⠇\u001b[1G\u001b[0K⠏\u001b[1G\u001b[0K⠋\u001b[1G\u001b[0K⠙\u001b[1G\u001b[0K⠹\u001b[1G\u001b[0K⠸\u001b[1G\u001b[0K⠼\u001b[1G\u001b[0K⠴\u001b[1G\u001b[0K⠦\u001b[1G\u001b[0K⠧\u001b[1G\u001b[0K⠇\u001b[1G\u001b[0K⠏\u001b[1G\u001b[0K⠋\u001b[1G\u001b[0K⠙\u001b[1G\u001b[0K⠹\u001b[1G\u001b[0K⠸\u001b[1G\u001b[0K⠼\u001b[1G\u001b[0K⠴\u001b[1G\u001b[0K⠦\u001b[1G\u001b[0K⠧\u001b[1G\u001b[0K⠇\u001b[1G\u001b[0K⠏\u001b[1G\u001b[0K\n",
            "added 86 packages in 5s\n",
            "\u001b[1G\u001b[0K⠏\u001b[1G\u001b[0K\n",
            "\u001b[1G\u001b[0K⠏\u001b[1G\u001b[0K25 packages are looking for funding\n",
            "\u001b[1G\u001b[0K⠏\u001b[1G\u001b[0K  run `npm fund` for details\n",
            "\u001b[1G\u001b[0K⠏\u001b[1G\u001b[0Kv22.19.0\n",
            "10.9.3\n",
            "\u001b[1G\u001b[0K"
          ]
        }
      ],
      "source": [
        "# Install Node.js LTS (NodeSource) + serve\n",
        "!apt-get update -y\n",
        "!curl -fsSL https://deb.nodesource.com/setup_lts.x | bash -\n",
        "!apt-get install -y nodejs\n",
        "!npm install -g serve\n",
        "\n",
        "# Verify\n",
        "!node -v\n",
        "!npm -v\n"
      ],
      "id": "TtbPa1vujyLa"
    },
    {
      "cell_type": "code",
      "metadata": {
        "colab": {
          "base_uri": "https://localhost:8080/"
        },
        "id": "ALLu1Ka4jyLa",
        "outputId": "33b267e4-6b29-4324-bbfb-0a30d1891edf"
      },
      "execution_count": 3,
      "outputs": [
        {
          "output_type": "stream",
          "name": "stdout",
          "text": [
            "/content/superinvi\n",
            "\u001b[1G\u001b[0K⠙\u001b[1G\u001b[0KWrote to /content/superinvi/package.json:\n",
            "\n",
            "{\n",
            "  \"name\": \"superinvi\",\n",
            "  \"version\": \"1.0.0\",\n",
            "  \"description\": \"\",\n",
            "  \"main\": \"index.js\",\n",
            "  \"scripts\": {\n",
            "    \"test\": \"echo \\\"Error: no test specified\\\" && exit 1\"\n",
            "  },\n",
            "  \"keywords\": [],\n",
            "  \"author\": \"\",\n",
            "  \"license\": \"ISC\"\n",
            "}\n",
            "\n",
            "\n",
            "\n",
            "\u001b[1G\u001b[0K⠙\u001b[1G\u001b[0K\u001b[1G\u001b[0K⠙\u001b[1G\u001b[0K⠹\u001b[1G\u001b[0K⠸\u001b[1G\u001b[0K⠼\u001b[1G\u001b[0K⠴\u001b[1G\u001b[0K⠦\u001b[1G\u001b[0K⠧\u001b[1G\u001b[0K⠇\u001b[1G\u001b[0K⠏\u001b[1G\u001b[0K⠋\u001b[1G\u001b[0K⠙\u001b[1G\u001b[0K⠹\u001b[1G\u001b[0K⠸\u001b[1G\u001b[0K⠼\u001b[1G\u001b[0K⠴\u001b[1G\u001b[0K⠦\u001b[1G\u001b[0K⠧\u001b[1G\u001b[0K⠇\u001b[1G\u001b[0K⠏\u001b[1G\u001b[0K⠋\u001b[1G\u001b[0K⠙\u001b[1G\u001b[0K⠹\u001b[1G\u001b[0K⠸\u001b[1G\u001b[0K⠼\u001b[1G\u001b[0K⠴\u001b[1G\u001b[0K⠦\u001b[1G\u001b[0K⠧\u001b[1G\u001b[0K⠇\u001b[1G\u001b[0K⠏\u001b[1G\u001b[0K⠋\u001b[1G\u001b[0K⠙\u001b[1G\u001b[0K⠹\u001b[1G\u001b[0K⠸\u001b[1G\u001b[0K⠼\u001b[1G\u001b[0K⠴\u001b[1G\u001b[0K⠦\u001b[1G\u001b[0K\n",
            "added 70 packages, and audited 71 packages in 3s\n",
            "\u001b[1G\u001b[0K⠦\u001b[1G\u001b[0K\n",
            "\u001b[1G\u001b[0K⠦\u001b[1G\u001b[0K16 packages are looking for funding\n",
            "\u001b[1G\u001b[0K⠦\u001b[1G\u001b[0K  run `npm fund` for details\n",
            "\u001b[1G\u001b[0K⠦\u001b[1G\u001b[0K\n",
            "found \u001b[32m\u001b[1m0\u001b[22m\u001b[39m vulnerabilities\n",
            "\u001b[1G\u001b[0K⠦\u001b[1G\u001b[0K"
          ]
        }
      ],
      "source": [
        "# Create and enter project directory\n",
        "!mkdir -p /content/superinvi\n",
        "%cd /content/superinvi\n",
        "\n",
        "# Init npm and install backend deps\n",
        "!npm init -y\n",
        "!npm install express body-parser cors"
      ],
      "id": "ALLu1Ka4jyLa"
    },
    {
      "cell_type": "code",
      "source": [
        "import os\n",
        "from google.colab import userdata\n",
        "\n",
        "# Load Colab secrets into environment so Node.js can access them\n",
        "os.environ[\"Gemini_API\"] = userdata.get(\"Gemini_API\")\n",
        "os.environ[\"invi_ngrok\"] = userdata.get(\"invi_ngrok\")\n",
        "\n",
        "print(\"✅ Environment variables set: Gemini_API and invi_ngrok\")\n"
      ],
      "metadata": {
        "colab": {
          "base_uri": "https://localhost:8080/"
        },
        "id": "lFHtMCkPXX4T",
        "outputId": "bf85c5df-25a2-4ac7-e653-6462b892ed2f"
      },
      "id": "lFHtMCkPXX4T",
      "execution_count": 4,
      "outputs": [
        {
          "output_type": "stream",
          "name": "stdout",
          "text": [
            "✅ Environment variables set: Gemini_API and invi_ngrok\n"
          ]
        }
      ]
    },
    {
      "cell_type": "code",
      "source": [
        "%%writefile server.js\n",
        "const express = require(\"express\");\n",
        "const bodyParser = require(\"body-parser\");\n",
        "const cors = require(\"cors\");\n",
        "\n",
        "const app = express();\n",
        "app.use(bodyParser.json());\n",
        "app.use(cors({ origin: true }));\n",
        "\n",
        "// Gemini API key\n",
        "const GEMINI_API = process.env.Gemini_API;\n",
        "\n",
        "app.get(\"/\", (req, res) => {\n",
        "  res.send(\"✅ SuperINVI backend is running. Use POST /generate\");\n",
        "});\n",
        "\n",
        "app.post(\"/generate\", async (req, res) => {\n",
        "  const { description = \"\" } = req.body || {};\n",
        "\n",
        "  try {\n",
        "    if (!GEMINI_API) throw new Error(\"Missing Gemini API key\");\n",
        "\n",
        "    const response = await fetch(\n",
        "      `https://generativelanguage.googleapis.com/v1beta/models/gemini-1.5-flash-latest:generateContent?key=${GEMINI_API}`,\n",
        "            {\n",
        "        method: \"POST\",\n",
        "        headers: { \"Content-Type\": \"application/json\" },\n",
        "        body: JSON.stringify({\n",
        "          contents: [{\n",
        "            role: \"user\",\n",
        "            parts: [{ text: `Generate a responsive HTML and CSS template for: ${description}. Do not include markdown fences, only pure HTML and CSS code.` }]\n",
        "          }]\n",
        "        }),\n",
        "      }\n",
        "    );\n",
        "\n",
        "    const data = await response.json();\n",
        "\n",
        "    console.log(\"Gemini API raw response:\", JSON.stringify(data, null, 2));\n",
        "\n",
        "    let generatedHTML = data?.candidates?.[0]?.content?.parts?.[0]?.text?.trim();\n",
        "\n",
        "    if (!generatedHTML) {\n",
        "      // Include the Gemini API's error message if available\n",
        "      const errorMessage = data?.error?.message || \"Could not generate a site for your request.\";\n",
        "      return res.json({\n",
        "        html: `<p>⚠️ ${errorMessage} Try rephrasing your description.</p>`\n",
        "      });\n",
        "    }\n",
        "\n",
        "    res.json({\n",
        "      html: generatedHTML,\n",
        "      code: generatedHTML\n",
        "       });\n",
        "\n",
        "  } catch (err) {\n",
        "    console.error(\"❌ Error:\", err.message);\n",
        "    res.json({\n",
        "      html: `<p>⚠️ Gemini API Error: ${err.message}</p>`\n",
        "    });\n",
        "  }\n",
        "});\n",
        "\n",
        "const PORT = process.env.PORT || 3000;\n",
        "app.listen(PORT, () => console.log(`✅ SuperINVI Gemini API running on port ${PORT}`));"
      ],
      "metadata": {
        "colab": {
          "base_uri": "https://localhost:8080/"
        },
        "id": "r86rTZKAO9iW",
        "outputId": "c93f0e62-89fe-4cae-9437-e3e19e444db2"
      },
      "id": "r86rTZKAO9iW",
      "execution_count": 5,
      "outputs": [
        {
          "output_type": "stream",
          "name": "stdout",
          "text": [
            "Writing server.js\n"
          ]
        }
      ]
    },
    {
      "cell_type": "code",
      "source": [
        "%%writefile index.html\n",
        "<!doctype html>\n",
        "<html lang=\"en\">\n",
        "<head>\n",
        "  <meta charset=\"utf-8\" />\n",
        "  <meta name=\"viewport\" content=\"width=device-width,initial-scale=1\" />\n",
        "  <title>SUPER INVI</title>\n",
        "  <meta name=\"description\" content=\"Generate a portfolio, preview and iterate via chat.\" />\n",
        "  <style>\n",
        "    :root{\n",
        "      --bg: linear-gradient(180deg,#071026 0%, #08142b 100%);\n",
        "      --muted: #dbeafe;\n",
        "      --accent: #60a5fa;\n",
        "      --accent-2: #f59e0b;\n",
        "      --card: rgba(255,255,255,0.03);\n",
        "      --radius: 12px;\n",
        "      --gap: 16px;\n",
        "      --chat-w: 22%;\n",
        "    }\n",
        "    *{box-sizing:border-box}\n",
        "    html,body{height:100%;margin:0;font-family:Inter,system-ui,-apple-system,\"Segoe UI\",Roboto,Arial}\n",
        "    body{background:var(--bg);color:var(--muted);padding:18px;display:flex;justify-content:center;align-items:stretch;-webkit-font-smoothing:antialiased}\n",
        "    .app{width:100%;max-width:1400px;height:calc(100vh - 36px);display:flex;position:relative;gap:var(--gap)}\n",
        "\n",
        "    /* HERO (initial) */\n",
        "    .hero{flex:1;border-radius:var(--radius);background:linear-gradient(180deg, rgba(255,255,255,0.02), rgba(255,255,255,0.01));display:flex;align-items:center;justify-content:center;padding:40px;transition:all .42s}\n",
        "    .hero.hidden{opacity:0;transform:translateY(-8px) scale(.998);pointer-events:none;height:0;padding:0;margin:0}\n",
        "    .hero-inner{width:100%;max-width:980px;text-align:center}\n",
        "    .title{font-size:28px;font-weight:700;margin:0 0 8px;color:#fff}\n",
        "    .subtitle{margin:0 0 18px;color:rgba(255,255,255,0.86)}\n",
        "    .controls{display:flex;gap:10px;justify-content:center;align-items:center}\n",
        "    .input{width:60%;min-width:260px;padding:12px 14px;border-radius:10px;border:1px solid rgba(255,255,255,0.04);background:rgba(255,255,255,0.02);color:var(--muted);outline:none}\n",
        "    .btn{padding:10px 16px;border-radius:10px;border:0;cursor:pointer;font-weight:700;background:var(--accent-2);color:#071120}\n",
        "    .btn.ghost{background:rgba(255,255,255,0.06);color:var(--muted);border:1px solid rgba(255,255,255,0.03)}\n",
        "\n",
        "    /* SPLIT layout (20% chat, 80% preview) */\n",
        "    .shell{display:flex;gap:var(--gap);width:100%;height:100%}\n",
        "    .hidden{display:none !important}\n",
        "\n",
        "    .chat{width:var(--chat-w);min-width:240px;max-width:360px;background:linear-gradient(180deg, rgba(255,255,255,0.015), rgba(255,255,255,0.01));border-radius:var(--radius);border:1px solid rgba(255,255,255,0.03);display:flex;flex-direction:column;overflow:hidden;box-shadow:0 8px 30px rgba(2,6,23,0.6)}\n",
        "    .chat-header{display:flex;gap:12px;align-items:center;padding:14px;border-bottom:1px solid rgba(255,255,255,0.02)}\n",
        "    .avatar{width:44px;height:44px;border-radius:10px;background:linear-gradient(135deg,var(--accent),#7c3aed);display:flex;align-items:center;justify-content:center;font-weight:800;color:#031129}\n",
        "    .meta{display:flex;flex-direction:column}\n",
        "    .meta .t{font-weight:700;color:#e6eef8}\n",
        "    .meta .s{font-size:12px;color:rgba(219,234,254,0.85)}\n",
        "\n",
        "    .chat-body{padding:12px;flex:1;overflow:auto;display:flex;flex-direction:column;gap:10px}\n",
        "    .bubble{max-width:92%;padding:10px 12px;border-radius:12px;font-size:13px;line-height:1.35;box-shadow:0 6px 18px rgba(2,6,23,0.5);word-break:break-word}\n",
        "    .bubble.user{align-self:flex-end;background:linear-gradient(90deg,var(--accent),#7dd3fc);color:#02283a;border-bottom-right-radius:6px}\n",
        "    .bubble.assistant{align-self:flex-start;background:rgba(255,255,255,0.035);color:var(--muted);border-bottom-left-radius:6px}\n",
        "\n",
        "    .chat-foot{padding:12px;border-top:1px solid rgba(255,255,255,0.02);display:flex;gap:8px;align-items:center;background:linear-gradient(180deg,transparent, rgba(0,0,0,0.02))}\n",
        "    .chat-input{flex:1;min-height:44px;border-radius:10px;padding:10px;border:1px solid rgba(255,255,255,0.04);background:rgba(255,255,255,0.02);color:var(--muted);outline:none;resize:none}\n",
        "\n",
        "    .preview{flex:1;display:flex;flex-direction:column;gap:12px}\n",
        "    .preview-controls{display:flex;justify-content:space-between;align-items:center;gap:12px}\n",
        "    .controls-left{display:flex;gap:12px;align-items:center;flex:1}\n",
        "    .panel{background:var(--card);border-radius:var(--radius);border:1px solid rgba(255,255,255,0.03);height:calc(100% - 48px);overflow:hidden;display:flex;flex-direction:column}\n",
        "    .preview-area{display:flex;gap:12px;padding:12px;height:100%}\n",
        "    .panel-inner{flex:1;border-radius:10px;overflow:hidden;background:white;position:relative}\n",
        "    iframe#preview{width:100%;height:100%;border:0;display:block}\n",
        "    pre#code{margin:0;padding:14px;height:100%;overflow:auto;background:#0e1116;color:#d7e6ff;font-family:ui-monospace,Menlo,Monaco,\"Roboto Mono\",monospace;font-size:13px;line-height:1.45;white-space:pre-wrap}\n",
        "\n",
        "    @media(max-width:1000px){ .chat{display:none} .input{width:100%} }\n",
        "  </style>\n",
        "</head>\n",
        "<body>\n",
        "  <div class=\"app\" id=\"app\">\n",
        "    <!-- HERO (initial) -->\n",
        "    <div class=\"hero\" id=\"hero\">\n",
        "      <div class=\"hero-inner\">\n",
        "        <div class=\"title\"> SUPER INVI </div>\n",
        "        <div class=\"subtitle\">Describe the website (hero, projects, contact). Click Generate to create and iterate via chat.</div>\n",
        "        <div class=\"controls\">\n",
        "          <input id=\"heroInput\" class=\"input\" placeholder=\"e.g. Freelancer portfolio with hero, projects, testimonials, contact form\" />\n",
        "          <button id=\"heroGen\" class=\"btn\">Generate</button>\n",
        "          <button id=\"heroSample\" class=\"btn ghost\">Sample</button>\n",
        "        </div>\n",
        "      </div>\n",
        "    </div>\n",
        "\n",
        "    <!-- SPLIT (hidden at start) -->\n",
        "    <div class=\"shell hidden\" id=\"shell\" aria-hidden=\"true\">\n",
        "      <aside class=\"chat\" id=\"chat\">\n",
        "        <div class=\"chat-header\">\n",
        "          <div class=\"avatar\">IN</div>\n",
        "          <div class=\"meta\"><div class=\"t\">INVI Generator</div><div class=\"s\">Iterative conversation for edits</div></div>\n",
        "        </div>\n",
        "\n",
        "        <div class=\"chat-body\" id=\"chatBody\" role=\"log\" aria-live=\"polite\"></div>\n",
        "\n",
        "        <div class=\"chat-foot\">\n",
        "          <textarea id=\"chatInput\" class=\"chat-input\" placeholder=\"Ask for edits (e.g. 'Add navbar and testimonials')\"></textarea>\n",
        "          <button id=\"chatSend\" class=\"btn\">Send</button>\n",
        "          <button id=\"chatClear\" class=\"btn ghost\">Clear</button>\n",
        "        </div>\n",
        "      </aside>\n",
        "\n",
        "      <section class=\"preview\" id=\"previewCol\">\n",
        "        <div class=\"preview-controls\">\n",
        "          <div class=\"controls-left\">\n",
        "            <!-- NOTE: NO generate/search field here per your request -->\n",
        "            <div style=\"color:rgba(255,255,255,0.75);font-size:13px\">Preview</div>\n",
        "            <button id=\"download\" class=\"btn ghost hidden\">Download</button>\n",
        "          </div>\n",
        "          <div style=\"display:flex;gap:8px;align-items:center\">\n",
        "            <button id=\"toggle\" class=\"btn ghost hidden\">View Code</button>\n",
        "            <button id=\"copy\" class=\"btn ghost hidden\">Copy</button>\n",
        "          </div>\n",
        "        </div>\n",
        "\n",
        "        <div class=\"panel\">\n",
        "          <div class=\"preview-area\">\n",
        "            <div class=\"panel-inner\" id=\"previewPanel\">\n",
        "              <!-- sandboxed iframe: scripts and forms allowed but top-level navigation blocked -->\n",
        "              <iframe id=\"preview\" title=\"Generated preview\" sandbox=\"allow-scripts allow-forms\"></iframe>\n",
        "            </div>\n",
        "\n",
        "            <div class=\"panel-inner hidden\" id=\"codePanel\">\n",
        "              <pre id=\"code\"></pre>\n",
        "            </div>\n",
        "          </div>\n",
        "        </div>\n",
        "      </section>\n",
        "    </div>\n",
        "  </div>\n",
        "\n",
        "  <script>\n",
        "  (function(){\n",
        "    // ===== CONFIGURE: replace with your backend URL (no trailing slash) =====\n",
        "    const BASE_URL = \"{{NGROK_URL}}\";\n",
        "    // ======================================================================\n",
        "\n",
        "    // DOM\n",
        "    const hero = document.getElementById('hero');\n",
        "    const heroInput = document.getElementById('heroInput');\n",
        "    const heroGen = document.getElementById('heroGen');\n",
        "    const heroSample = document.getElementById('heroSample');\n",
        "\n",
        "    const shell = document.getElementById('shell');\n",
        "    const chatBody = document.getElementById('chatBody');\n",
        "    const chatInput = document.getElementById('chatInput');\n",
        "    const chatSend = document.getElementById('chatSend');\n",
        "    const chatClear = document.getElementById('chatClear');\n",
        "\n",
        "    const download = document.getElementById('download');\n",
        "    const toggle = document.getElementById('toggle');\n",
        "    const copyBtn = document.getElementById('copy');\n",
        "\n",
        "    const previewIframe = document.getElementById('preview');\n",
        "    const previewPanel = document.getElementById('previewPanel');\n",
        "    const codePanel = document.getElementById('codePanel');\n",
        "    const codeEl = document.getElementById('code');\n",
        "\n",
        "    // state\n",
        "    let lastGenerated = { html:'', code:'' };\n",
        "    let showingCode = false;\n",
        "    let isGenerating = false;\n",
        "\n",
        "    // append message bubble\n",
        "    function appendBubble(role, text){\n",
        "      const d = document.createElement('div');\n",
        "      d.className = 'bubble ' + (role === 'user' ? 'user' : 'assistant');\n",
        "      d.textContent = text;\n",
        "      chatBody.appendChild(d);\n",
        "      chatBody.scrollTop = chatBody.scrollHeight;\n",
        "      return d;\n",
        "    }\n",
        "\n",
        "    function showSplit(){\n",
        "      hero.classList.add('hidden');\n",
        "      hero.setAttribute('aria-hidden','true');\n",
        "      shell.classList.remove('hidden');\n",
        "      shell.setAttribute('aria-hidden','false');\n",
        "      // focus chat input for quick edits\n",
        "      setTimeout(()=> chatInput.focus(), 200);\n",
        "    }\n",
        "\n",
        "    function setControlsVisible(v){\n",
        "      if (v){ toggle.classList.remove('hidden'); copyBtn.classList.remove('hidden'); download.classList.remove('hidden'); }\n",
        "      else { toggle.classList.add('hidden'); copyBtn.classList.add('hidden'); download.classList.add('hidden'); }\n",
        "    }\n",
        "\n",
        "    function setShowingCode(flag){\n",
        "      showingCode = !!flag;\n",
        "      if (showingCode){\n",
        "        previewPanel.classList.add('hidden');\n",
        "        codePanel.classList.remove('hidden');\n",
        "        toggle.textContent = 'View Preview';\n",
        "      } else {\n",
        "        codePanel.classList.add('hidden');\n",
        "        previewPanel.classList.remove('hidden');\n",
        "        toggle.textContent = 'View Code';\n",
        "      }\n",
        "    }\n",
        "\n",
        "    function persist(){ try { sessionStorage.setItem('invi_last', JSON.stringify(lastGenerated)); } catch(e){} }\n",
        "    function restore(){\n",
        "      try {\n",
        "        const raw = sessionStorage.getItem('invi_last');\n",
        "        if (!raw) return false;\n",
        "        const parsed = JSON.parse(raw);\n",
        "        if (!parsed) return false;\n",
        "        lastGenerated = parsed;\n",
        "        // put safe (base-target) html into iframe\n",
        "        previewIframe.srcdoc = ensureBaseTarget(parsed.html || '');\n",
        "        codeEl.textContent = parsed.code || parsed.html || '';\n",
        "        setControlsVisible(true);\n",
        "        setShowingCode(false);\n",
        "        hero.classList.add('hidden');\n",
        "        shell.classList.remove('hidden');\n",
        "        return true;\n",
        "      } catch(e){ return false; }\n",
        "    }\n",
        "\n",
        "    // build safe HTML for the iframe: insert <base target=\"_blank\"> so links open new tabs\n",
        "    function ensureBaseTarget(html){\n",
        "      if (!html) return html;\n",
        "      try {\n",
        "        // if there's a <head> tag, insert base after it\n",
        "        const headMatch = html.match(/<head[^>]*>/i);\n",
        "        if (headMatch){\n",
        "          return html.replace(/<head[^>]*>/i, headMatch[0] + '<base target=\"_blank\">');\n",
        "        }\n",
        "        // if there's <html>, insert head with base\n",
        "        const htmlTag = html.match(/<html[^>]*>/i);\n",
        "        if (htmlTag){\n",
        "          return html.replace(/<html[^>]*>/i, htmlTag[0] + '<head><base target=\"_blank\"></head>');\n",
        "        }\n",
        "        // fallback: prepend base\n",
        "        return '<base target=\"_blank\">' + html;\n",
        "      } catch(e){\n",
        "        return '<base target=\"_blank\">' + html;\n",
        "      }\n",
        "    }\n",
        "\n",
        "    async function callGenerate(description, timeoutMs=60000){\n",
        "      if (!BASE_URL || BASE_URL.includes('{{NGROK_URL')) throw new Error('Replace BASE_URL placeholder with your backend URL at the top of this file.');\n",
        "      if (isGenerating) throw new Error('Generation in progress');\n",
        "      isGenerating = true;\n",
        "      const controller = new AbortController();\n",
        "      const id = setTimeout(()=> controller.abort(), timeoutMs);\n",
        "      try {\n",
        "        const res = await fetch(BASE_URL + '/generate', {\n",
        "          method:'POST',\n",
        "          headers:{ 'Content-Type':'application/json' },\n",
        "          body: JSON.stringify({ description }),\n",
        "          signal: controller.signal\n",
        "        });\n",
        "        clearTimeout(id);\n",
        "        if (!res.ok){\n",
        "          const t = await res.text();\n",
        "          throw new Error(`Server ${res.status}: ${t}`);\n",
        "        }\n",
        "        const json = await res.json();\n",
        "        return json;\n",
        "      } finally {\n",
        "        isGenerating = false;\n",
        "      }\n",
        "    }\n",
        "\n",
        "    // initial generation flow\n",
        "    async function initialGenerate(description){\n",
        "      if (!description || !description.trim()){ alert('Please enter a description.'); return; }\n",
        "      showSplit();\n",
        "      appendBubble('user', description);\n",
        "      const assistant = appendBubble('assistant', 'Generating preview...');\n",
        "      try {\n",
        "        const data = await callGenerate(description);\n",
        "        const html = data?.html || '';\n",
        "        const code = data?.code || html || '';\n",
        "        lastGenerated = { html, code };\n",
        "        persist();\n",
        "        // inject base target to keep links from navigating parent, then set iframe\n",
        "        previewIframe.srcdoc = ensureBaseTarget(html || '<div style=\"padding:16px\">⚠️ No HTML returned.</div>');\n",
        "        codeEl.textContent = code || '⚠️ No code returned.';\n",
        "        assistant.textContent = 'Generated preview is ready. Use the chat on the left to request edits.';\n",
        "        setControlsVisible(true);\n",
        "        setShowingCode(false);\n",
        "      } catch(err){\n",
        "        console.error(err);\n",
        "        assistant.textContent = 'Generation failed: ' + (err.message || 'network error');\n",
        "        previewIframe.srcdoc = `<div style=\"padding:16px;color:#111\">⚠️ Error: ${String(err.message)}</div>`;\n",
        "      }\n",
        "    }\n",
        "\n",
        "    // follow-up edit -> calls /generate with a contextual prompt\n",
        "    async function followUpChange(text){\n",
        "      if (!text || !text.trim()) return;\n",
        "      appendBubble('user', text);\n",
        "      const assistant = appendBubble('assistant', 'Applying change...');\n",
        "      try {\n",
        "        const combined = `${text}\\n\\nContext: update the previously generated site accordingly and return full HTML.`;\n",
        "        const data = await callGenerate(combined);\n",
        "        const html = data?.html || lastGenerated.html || '';\n",
        "        const code = data?.code || html || lastGenerated.code || '';\n",
        "        lastGenerated = { html, code };\n",
        "        persist();\n",
        "        previewIframe.srcdoc = ensureBaseTarget(html || '');\n",
        "        codeEl.textContent = code || '⚠️ No code returned.';\n",
        "        assistant.textContent = 'Change applied — preview updated.';\n",
        "      } catch(err){\n",
        "        console.error(err);\n",
        "        assistant.textContent = 'Failed to apply change: ' + (err.message || 'network error');\n",
        "      }\n",
        "    }\n",
        "\n",
        "    // events wiring\n",
        "    heroGen.addEventListener('click', ()=> initialGenerate(heroInput.value.trim()));\n",
        "    heroInput.addEventListener('keypress', (e)=> { if (e.key === 'Enter') { e.preventDefault(); heroGen.click(); }});\n",
        "    heroSample.addEventListener('click', ()=> {\n",
        "      const sample = 'Freelancer portfolio for Thiru Thodangi with hero, about, services, projects grid, testimonials and contact form. Modern clean UI.';\n",
        "      heroInput.value = sample;\n",
        "      initialGenerate(sample);\n",
        "    });\n",
        "\n",
        "    chatSend.addEventListener('click', ()=> { const t = chatInput.value.trim(); chatInput.value=''; followUpChange(t); });\n",
        "    chatInput.addEventListener('keypress', (e)=> { if (e.key === 'Enter' && !e.shiftKey) { e.preventDefault(); chatSend.click(); }});\n",
        "    chatClear.addEventListener('click', ()=> { chatBody.innerHTML=''; try{ sessionStorage.removeItem('invi_last'); }catch(e){} });\n",
        "\n",
        "    toggle.addEventListener('click', ()=> setShowingCode(!showingCode));\n",
        "    copyBtn.addEventListener('click', async ()=> {\n",
        "      try { await navigator.clipboard.writeText(lastGenerated.code || lastGenerated.html || ''); copyBtn.textContent='Copied'; setTimeout(()=> copyBtn.textContent='Copy',1000); } catch(e){ alert('Copy failed'); }\n",
        "    });\n",
        "    download.addEventListener('click', ()=> {\n",
        "      const content = lastGenerated.code || lastGenerated.html || '';\n",
        "      const blob = new Blob([content], { type: 'text/html' });\n",
        "      const url = URL.createObjectURL(blob);\n",
        "      const a = document.createElement('a'); a.href=url; a.download='invi-generated.html'; document.body.appendChild(a); a.click(); a.remove(); URL.revokeObjectURL(url);\n",
        "    });\n",
        "\n",
        "    // on load try restore previous\n",
        "    (function init(){\n",
        "      try {\n",
        "        const raw = sessionStorage.getItem('invi_last');\n",
        "        if (raw){\n",
        "          const parsed = JSON.parse(raw);\n",
        "          if (parsed && (parsed.html || parsed.code)){\n",
        "            lastGenerated = parsed;\n",
        "            previewIframe.srcdoc = ensureBaseTarget(parsed.html || '');\n",
        "            codeEl.textContent = parsed.code || parsed.html || '';\n",
        "            // show split directly\n",
        "            hero.classList.add('hidden');\n",
        "            shell.classList.remove('hidden');\n",
        "            setControlsVisible(true);\n",
        "            setShowingCode(false);\n",
        "            return;\n",
        "          }\n",
        "        }\n",
        "      } catch(e){}\n",
        "      // default informative preview while hero visible\n",
        "      previewIframe.srcdoc = `<div style=\"font-family:Inter,Arial;padding:28px;color:#07122a\">\n",
        "        <h2 style=\"margin-top:0\">INVI Generator</h2>\n",
        "        <p>Enter a short description in the hero input and click Generate. After generation, the chat appears on the left and the preview is live on the right (links open in new tabs).</p>\n",
        "        <p style=\"margin-top:12px;color:#374151\">Replace BASE_URL placeholder at the top with your backend endpoint before using.</p>\n",
        "      </div>`;\n",
        "    })();\n",
        "\n",
        "  })();\n",
        "  </script>\n",
        "</body>\n",
        "</html>\n"
      ],
      "metadata": {
        "colab": {
          "base_uri": "https://localhost:8080/"
        },
        "id": "U-Ufw5eBibvy",
        "outputId": "84bf01d0-36ce-4503-bd98-b7b14a258079"
      },
      "id": "U-Ufw5eBibvy",
      "execution_count": 6,
      "outputs": [
        {
          "output_type": "stream",
          "name": "stdout",
          "text": [
            "Writing index.html\n"
          ]
        }
      ]
    },
    {
      "cell_type": "code",
      "source": [
        "!pip install -q pyngrok\n"
      ],
      "metadata": {
        "id": "yw4wyYEVwhdy"
      },
      "id": "yw4wyYEVwhdy",
      "execution_count": 7,
      "outputs": []
    },
    {
      "cell_type": "code",
      "source": [
        "from pyngrok import ngrok\n",
        "ngrok.kill()"
      ],
      "metadata": {
        "id": "ZUjVHh2Vs31z"
      },
      "id": "ZUjVHh2Vs31z",
      "execution_count": 8,
      "outputs": []
    },
    {
      "cell_type": "code",
      "source": [
        "import subprocess, time, os\n",
        "from google.colab import auth\n",
        "auth.authenticate_user()\n",
        "\n",
        "# Get Gemini API key (from Colab secret)\n",
        "try:\n",
        "    from google.colab import userdata\n",
        "    GEMINI_API = userdata.get('Gemini_API') # Using 'Gemini_API' as defined in server.js\n",
        "except ImportError:\n",
        "    GEMINI_API = os.environ.get(\"Gemini_API\") # Fallback to environment variable if not in Colab\n",
        "\n",
        "# Set environment variable for the backend server\n",
        "os.environ[\"Gemini_API\"] = GEMINI_API\n",
        "\n",
        "# Install backend dependencies in the correct directory\n",
        "!npm install express body-parser cors\n",
        "\n",
        "# Start backend (Node server) with logging to a file\n",
        "backend = subprocess.Popen(\n",
        "    [\"node\", \"server.js\"],\n",
        "    stdout=open(\"backend.log\", \"w\"),\n",
        "    stderr=subprocess.STDOUT\n",
        ")\n",
        "\n",
        "# Wait for backend to boot\n",
        "time.sleep(3)\n",
        "\n",
        "# Show last lines of backend log (to confirm server started)\n",
        "!tail -n 20 backend.log\n",
        "\n",
        "\n",
        "# Get ngrok auth token (from Colab secret or env var)\n",
        "try:\n",
        "    from google.colab import userdata\n",
        "    NGROK_AUTH_TOKEN = userdata.get('invi_ngrok')\n",
        "except ImportError:\n",
        "    NGROK_AUTH_TOKEN = os.environ.get(\"NGROK_AUTH_TOKEN\")\n",
        "\n",
        "if NGROK_AUTH_TOKEN:\n",
        "    ngrok.set_auth_token(NGROK_AUTH_TOKEN)\n",
        "\n",
        "# Start backend tunnel (port 3000)\n",
        "tunnel = ngrok.connect(3000, \"http\")\n",
        "backend_ngrok_url = tunnel.public_url\n",
        "\n",
        "print(\"✅ Backend available at:\", backend_ngrok_url)"
      ],
      "metadata": {
        "colab": {
          "base_uri": "https://localhost:8080/"
        },
        "id": "1RJS_-386AmW",
        "outputId": "c920c768-dc9c-4ced-b0cb-e348eb71672f"
      },
      "id": "1RJS_-386AmW",
      "execution_count": 9,
      "outputs": [
        {
          "output_type": "stream",
          "name": "stdout",
          "text": [
            "\u001b[1G\u001b[0K⠙\u001b[1G\u001b[0K⠹\u001b[1G\u001b[0K⠸\u001b[1G\u001b[0K⠼\u001b[1G\u001b[0K\n",
            "up to date, audited 71 packages in 666ms\n",
            "\u001b[1G\u001b[0K⠼\u001b[1G\u001b[0K\n",
            "\u001b[1G\u001b[0K⠼\u001b[1G\u001b[0K16 packages are looking for funding\n",
            "\u001b[1G\u001b[0K⠼\u001b[1G\u001b[0K  run `npm fund` for details\n",
            "\u001b[1G\u001b[0K⠼\u001b[1G\u001b[0K\n",
            "found \u001b[32m\u001b[1m0\u001b[22m\u001b[39m vulnerabilities\n",
            "\u001b[1G\u001b[0K⠼\u001b[1G\u001b[0K✅ SuperINVI Gemini API running on port 3000\n",
            "✅ Backend available at: https://389dfd8bc362.ngrok-free.app\n"
          ]
        }
      ]
    },
    {
      "cell_type": "code",
      "source": [
        "with open(\"index.html\", \"r\") as f:\n",
        "    html = f.read()\n",
        "\n",
        "html = html.replace(\"{{NGROK_URL}}\", backend_ngrok_url)\n",
        "\n",
        "with open(\"index.html\", \"w\") as f:\n",
        "    f.write(html)\n",
        "\n",
        "print(\"✅ index.html patched with backend ngrok URL\")\n"
      ],
      "metadata": {
        "colab": {
          "base_uri": "https://localhost:8080/"
        },
        "id": "7mxiw2IPwlHp",
        "outputId": "6e15c8b8-e661-44c8-9dac-226ce5e7574d"
      },
      "id": "7mxiw2IPwlHp",
      "execution_count": 10,
      "outputs": [
        {
          "output_type": "stream",
          "name": "stdout",
          "text": [
            "✅ index.html patched with backend ngrok URL\n"
          ]
        }
      ]
    },
    {
      "cell_type": "code",
      "source": [
        "!nohup npx serve -l 8000 -s . > frontend.log 2>&1 &\n",
        "!sleep 9\n",
        "!tail -n 10 frontend.log\n"
      ],
      "metadata": {
        "colab": {
          "base_uri": "https://localhost:8080/"
        },
        "id": "tBHQKvdwwlTq",
        "outputId": "229aadc4-47ff-4619-8c97-3354a0feaa7e"
      },
      "id": "tBHQKvdwwlTq",
      "execution_count": 11,
      "outputs": [
        {
          "output_type": "stream",
          "name": "stderr",
          "text": [
            "WARNING:pyngrok.process.ngrok:t=2025-09-22T11:17:05+0000 lvl=warn msg=\"failed to check for update\" obj=updater err=\"Post \\\"https://update.equinox.io/check\\\": context deadline exceeded\"\n"
          ]
        },
        {
          "output_type": "stream",
          "name": "stdout",
          "text": [
            " INFO  Accepting connections at http://localhost:8000\n"
          ]
        }
      ]
    },
    {
      "cell_type": "code",
      "source": [
        "# !pkill -f ngrok"
      ],
      "metadata": {
        "id": "u6RL-KNjlXsO"
      },
      "id": "u6RL-KNjlXsO",
      "execution_count": 12,
      "outputs": []
    },
    {
      "cell_type": "code",
      "source": [
        "frontend_tunnel = ngrok.connect(8000, \"http\")\n",
        "print(\"🌍 Frontend available at:\", frontend_tunnel.public_url)\n"
      ],
      "metadata": {
        "colab": {
          "base_uri": "https://localhost:8080/"
        },
        "id": "RLaGI8K8wyYD",
        "outputId": "36cf8e33-6b84-4a00-b4b9-da51c3819cdc"
      },
      "id": "RLaGI8K8wyYD",
      "execution_count": 13,
      "outputs": [
        {
          "output_type": "stream",
          "name": "stdout",
          "text": [
            "🌍 Frontend available at: https://fa508c20a581.ngrok-free.app\n"
          ]
        }
      ]
    },
    {
      "cell_type": "code",
      "source": [
        "!node server.js"
      ],
      "metadata": {
        "id": "YnuiuPj62JOA",
        "colab": {
          "base_uri": "https://localhost:8080/"
        },
        "outputId": "4f8e4d0e-e551-4ae7-abe8-860de56bdb56"
      },
      "id": "YnuiuPj62JOA",
      "execution_count": 14,
      "outputs": [
        {
          "output_type": "stream",
          "name": "stdout",
          "text": [
            "✅ SuperINVI Gemini API running on port 3000\n"
          ]
        }
      ]
    },
    {
      "cell_type": "code",
      "source": [
        "!tail -n 50 backend.log\n"
      ],
      "metadata": {
        "colab": {
          "base_uri": "https://localhost:8080/"
        },
        "id": "TR-sMI1Id99n",
        "outputId": "79c96c3d-47f7-4fba-e160-5de2a1c976fd"
      },
      "id": "TR-sMI1Id99n",
      "execution_count": 15,
      "outputs": [
        {
          "output_type": "stream",
          "name": "stdout",
          "text": [
            "✅ SuperINVI Gemini API running on port 3000\n"
          ]
        }
      ]
    },
    {
      "cell_type": "code",
      "source": [
        "# Cell 6 - run in a code cell\n",
        "!curl -s -X POST http://127.0.0.1:3000/generate -H \"Content-Type: application/json\" -d '{\"description\":\"A minimal, premium e-commerce homepage for SuperINVI\"}' | head -n 20\n"
      ],
      "metadata": {
        "colab": {
          "base_uri": "https://localhost:8080/"
        },
        "id": "Ea6EddoXWIs8",
        "outputId": "4b844425-ff28-4c3a-abf4-826138051cb6"
      },
      "id": "Ea6EddoXWIs8",
      "execution_count": 16,
      "outputs": [
        {
          "output_type": "stream",
          "name": "stdout",
          "text": [
            "{\"html\":\"<!DOCTYPE html>\\n<html lang=\\\"en\\\">\\n<head>\\n<meta charset=\\\"UTF-8\\\">\\n<meta name=\\\"viewport\\\" content=\\\"width=device-width, initial-scale=1.0\\\">\\n<title>SuperINVI</title>\\n<style>\\nbody {\\n  font-family: sans-serif;\\n  margin: 0;\\n  background-color: #f4f4f4;\\n  color: #333;\\n}\\n\\nheader {\\n  background-color: #fff;\\n  padding: 20px;\\n  text-align: center;\\n  box-shadow: 0 2px 5px rgba(0,0,0,0.1);\\n}\\n\\nheader h1 {\\n  margin: 0;\\n  font-size: 2em;\\n}\\n\\n.hero {\\n  background-image: url('hero-image.jpg'); /* Replace with your hero image */\\n  background-size: cover;\\n  background-position: center;\\n  height: 500px;\\n  display: flex;\\n  flex-direction: column;\\n  justify-content: center;\\n  align-items: center;\\n  text-align: center;\\n  color: white;\\n}\\n\\n.hero h2 {\\n  font-size: 3em;\\n  margin-bottom: 10px;\\n}\\n\\n.hero p {\\n  font-size: 1.2em;\\n  margin-bottom: 20px;\\n}\\n\\n.btn {\\n  background-color: #ff5722; /* Orange color */\\n  color: white;\\n  padding: 15px 30px;\\n  text-decoration: none;\\n  border-radius: 5px;\\n  font-size: 1.1em;\\n  transition: background-color 0.3s ease;\\n}\\n\\n.btn:hover {\\n  background-color: #e64a19;\\n}\\n\\n.products {\\n  display: flex;\\n  flex-wrap: wrap;\\n  justify-content: center;\\n  padding: 20px;\\n}\\n\\n.product {\\n  width: 300px;\\n  margin: 20px;\\n  box-shadow: 0 2px 5px rgba(0,0,0,0.1);\\n  text-align: center;\\n  padding: 10px;\\n}\\n\\n.product img {\\n  max-width: 100%;\\n  height: auto;\\n}\\n\\nfooter {\\n  background-color: #333;\\n  color: white;\\n  text-align: center;\\n  padding: 10px;\\n}\\n\\n@media (max-width: 768px) {\\n  .hero {\\n    height: 300px;\\n  }\\n  .products {\\n    flex-direction: column;\\n  }\\n  .product {\\n    width: 90%;\\n  }\\n}\\n</style>\\n</head>\\n<body>\\n<header>\\n  <h1>SuperINVI</h1>\\n</header>\\n\\n<section class=\\\"hero\\\">\\n  <h2>Welcome to SuperINVI</h2>\\n  <p>Your premium source for exceptional products.</p>\\n  <a href=\\\"#\\\" class=\\\"btn\\\">Shop Now</a>\\n</section>\\n\\n<section class=\\\"products\\\">\\n  <div class=\\\"product\\\">\\n    <img src=\\\"product1.jpg\\\" alt=\\\"Product 1\\\">  <!-- Replace with your product images -->\\n    <h3>Product Name</h3>\\n    <p>Description</p>\\n    <p>$99.99</p>\\n  </div>\\n  <div class=\\\"product\\\">\\n    <img src=\\\"product2.jpg\\\" alt=\\\"Product 2\\\">\\n    <h3>Product Name</h3>\\n    <p>Description</p>\\n    <p>$49.99</p>\\n  </div>\\n  <div class=\\\"product\\\">\\n    <img src=\\\"product3.jpg\\\" alt=\\\"Product 3\\\">\\n    <h3>Product Name</h3>\\n    <p>Description</p>\\n    <p>$149.99</p>\\n  </div>\\n</section>\\n\\n<footer>\\n  &copy; 2023 SuperINVI\\n</footer>\\n\\n</body>\\n</html>\",\"code\":\"<!DOCTYPE html>\\n<html lang=\\\"en\\\">\\n<head>\\n<meta charset=\\\"UTF-8\\\">\\n<meta name=\\\"viewport\\\" content=\\\"width=device-width, initial-scale=1.0\\\">\\n<title>SuperINVI</title>\\n<style>\\nbody {\\n  font-family: sans-serif;\\n  margin: 0;\\n  background-color: #f4f4f4;\\n  color: #333;\\n}\\n\\nheader {\\n  background-color: #fff;\\n  padding: 20px;\\n  text-align: center;\\n  box-shadow: 0 2px 5px rgba(0,0,0,0.1);\\n}\\n\\nheader h1 {\\n  margin: 0;\\n  font-size: 2em;\\n}\\n\\n.hero {\\n  background-image: url('hero-image.jpg'); /* Replace with your hero image */\\n  background-size: cover;\\n  background-position: center;\\n  height: 500px;\\n  display: flex;\\n  flex-direction: column;\\n  justify-content: center;\\n  align-items: center;\\n  text-align: center;\\n  color: white;\\n}\\n\\n.hero h2 {\\n  font-size: 3em;\\n  margin-bottom: 10px;\\n}\\n\\n.hero p {\\n  font-size: 1.2em;\\n  margin-bottom: 20px;\\n}\\n\\n.btn {\\n  background-color: #ff5722; /* Orange color */\\n  color: white;\\n  padding: 15px 30px;\\n  text-decoration: none;\\n  border-radius: 5px;\\n  font-size: 1.1em;\\n  transition: background-color 0.3s ease;\\n}\\n\\n.btn:hover {\\n  background-color: #e64a19;\\n}\\n\\n.products {\\n  display: flex;\\n  flex-wrap: wrap;\\n  justify-content: center;\\n  padding: 20px;\\n}\\n\\n.product {\\n  width: 300px;\\n  margin: 20px;\\n  box-shadow: 0 2px 5px rgba(0,0,0,0.1);\\n  text-align: center;\\n  padding: 10px;\\n}\\n\\n.product img {\\n  max-width: 100%;\\n  height: auto;\\n}\\n\\nfooter {\\n  background-color: #333;\\n  color: white;\\n  text-align: center;\\n  padding: 10px;\\n}\\n\\n@media (max-width: 768px) {\\n  .hero {\\n    height: 300px;\\n  }\\n  .products {\\n    flex-direction: column;\\n  }\\n  .product {\\n    width: 90%;\\n  }\\n}\\n</style>\\n</head>\\n<body>\\n<header>\\n  <h1>SuperINVI</h1>\\n</header>\\n\\n<section class=\\\"hero\\\">\\n  <h2>Welcome to SuperINVI</h2>\\n  <p>Your premium source for exceptional products.</p>\\n  <a href=\\\"#\\\" class=\\\"btn\\\">Shop Now</a>\\n</section>\\n\\n<section class=\\\"products\\\">\\n  <div class=\\\"product\\\">\\n    <img src=\\\"product1.jpg\\\" alt=\\\"Product 1\\\">  <!-- Replace with your product images -->\\n    <h3>Product Name</h3>\\n    <p>Description</p>\\n    <p>$99.99</p>\\n  </div>\\n  <div class=\\\"product\\\">\\n    <img src=\\\"product2.jpg\\\" alt=\\\"Product 2\\\">\\n    <h3>Product Name</h3>\\n    <p>Description</p>\\n    <p>$49.99</p>\\n  </div>\\n  <div class=\\\"product\\\">\\n    <img src=\\\"product3.jpg\\\" alt=\\\"Product 3\\\">\\n    <h3>Product Name</h3>\\n    <p>Description</p>\\n    <p>$149.99</p>\\n  </div>\\n</section>\\n\\n<footer>\\n  &copy; 2023 SuperINVI\\n</footer>\\n\\n</body>\\n</html>\"}"
          ]
        }
      ]
    }
  ],
  "metadata": {
    "kernelspec": {
      "display_name": "Python 3",
      "language": "python",
      "name": "python3"
    },
    "language_info": {
      "codemirror_mode": {
        "name": "ipython",
        "version": 3
      },
      "file_extension": ".py",
      "mimetype": "text/x-python",
      "name": "python",
      "nbconvert_exporter": "python",
      "pygments_lexer": "ipython3",
      "version": "3.12.11"
    },
    "colab": {
      "provenance": []
    }
  },
  "nbformat": 4,
  "nbformat_minor": 5
}