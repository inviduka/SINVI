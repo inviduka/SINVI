{
  "cells": [
    {
      "cell_type": "markdown",
      "metadata": {
        "id": "view-in-github",
        "colab_type": "text"
      },
      "source": [
        "<a href=\"https://colab.research.google.com/github/inviduka/SINVI/blob/main/ThInKare.ipynb\" target=\"_parent\"><img src=\"https://colab.research.google.com/assets/colab-badge.svg\" alt=\"Open In Colab\"/></a>"
      ]
    },
    {
      "cell_type": "markdown",
      "id": "51937918",
      "metadata": {
        "id": "51937918"
      },
      "source": [
        "# 🏥 Thinkare MVP — Supabase Colab Notebook\n",
        "This notebook helps you set up and test the **Thinkare** healthcare MVP backend using **Supabase** + Python SDK.\n",
        "\n",
        "⚠️ Use this only for backend testing. The React frontend should be developed locally or on Vercel.\n"
      ]
    },
    {
      "cell_type": "code",
      "execution_count": null,
      "id": "edbb20e6",
      "metadata": {
        "id": "edbb20e6"
      },
      "outputs": [],
      "source": [
        "!pip install supabase"
      ]
    },
    {
      "cell_type": "code",
      "execution_count": null,
      "id": "080d7352",
      "metadata": {
        "id": "080d7352"
      },
      "outputs": [],
      "source": [
        "from supabase import create_client\n",
        "\n",
        "# 🔑 Replace with your Supabase project credentials\n",
        "url = \"https://YOUR_PROJECT_ID.supabase.co\"\n",
        "key = \"YOUR_SUPABASE_ANON_KEY\"\n",
        "\n",
        "supabase = create_client(url, key)\n",
        "print(\"✅ Supabase client initialized\")\n"
      ]
    },
    {
      "cell_type": "code",
      "execution_count": null,
      "id": "4e34f8fa",
      "metadata": {
        "id": "4e34f8fa"
      },
      "outputs": [],
      "source": [
        "\n",
        "# Try selecting from 'profiles' table (will be empty initially)\n",
        "try:\n",
        "    resp = supabase.table(\"profiles\").select(\"*\").execute()\n",
        "    print(\"Profiles:\", resp)\n",
        "except Exception as e:\n",
        "    print(\"Table not created yet. Run schema in Supabase SQL Editor.\")\n"
      ]
    },
    {
      "cell_type": "markdown",
      "id": "3e8fd9c5",
      "metadata": {
        "id": "3e8fd9c5"
      },
      "source": [
        "## 🔐 Auth — Sign up and Sign in test"
      ]
    },
    {
      "cell_type": "code",
      "execution_count": null,
      "id": "d4048ec0",
      "metadata": {
        "id": "d4048ec0"
      },
      "outputs": [],
      "source": [
        "\n",
        "email = \"village1@test.com\"\n",
        "password = \"password123\"\n",
        "\n",
        "# Sign up user\n",
        "resp = supabase.auth.sign_up({\"email\": email, \"password\": password})\n",
        "print(\"Sign-up response:\", resp)\n",
        "\n",
        "# Sign in user\n",
        "resp = supabase.auth.sign_in_with_password({\"email\": email, \"password\": password})\n",
        "print(\"Sign-in response:\", resp)\n",
        "user = resp.user\n"
      ]
    },
    {
      "cell_type": "markdown",
      "id": "7deaf033",
      "metadata": {
        "id": "7deaf033"
      },
      "source": [
        "## 👤 Create Profile for user"
      ]
    },
    {
      "cell_type": "code",
      "execution_count": null,
      "id": "375c4eb0",
      "metadata": {
        "id": "375c4eb0"
      },
      "outputs": [],
      "source": [
        "\n",
        "if user:\n",
        "    profile_payload = {\n",
        "        \"auth_id\": user.id,\n",
        "        \"role\": \"village\",\n",
        "        \"name\": \"Village One\",\n",
        "        \"phone\": \"9999999999\"\n",
        "    }\n",
        "    resp = supabase.table(\"profiles\").insert([profile_payload]).execute()\n",
        "    print(\"Inserted profile:\", resp)\n",
        "else:\n",
        "    print(\"❌ No user available. Run sign-in first.\")\n"
      ]
    },
    {
      "cell_type": "markdown",
      "id": "07bf3165",
      "metadata": {
        "id": "07bf3165"
      },
      "source": [
        "## 🎟️ Tickets Flow"
      ]
    },
    {
      "cell_type": "code",
      "execution_count": null,
      "id": "989084bc",
      "metadata": {
        "id": "989084bc"
      },
      "outputs": [],
      "source": [
        "\n",
        "# Insert a ticket\n",
        "ticket_payload = {\n",
        "    \"created_by\": \"PROFILE_UUID\",   # replace with profile UUID\n",
        "    \"type\": \"general\",\n",
        "    \"description\": \"Need vaccination camp\",\n",
        "    \"preferred_date\": \"2025-10-05\",\n",
        "    \"status\": \"pending\"\n",
        "}\n",
        "resp = supabase.table(\"tickets\").insert([ticket_payload]).execute()\n",
        "print(\"Ticket created:\", resp)\n"
      ]
    },
    {
      "cell_type": "code",
      "execution_count": null,
      "id": "998d3c04",
      "metadata": {
        "id": "998d3c04"
      },
      "outputs": [],
      "source": [
        "\n",
        "# NGO accepts a ticket\n",
        "resp = supabase.table(\"tickets\").update({\n",
        "    \"status\": \"accepted\",\n",
        "    \"ngo_id\": \"NGO_PROFILE_UUID\"   # replace with NGO profile id\n",
        "}).eq(\"id\", \"TICKET_UUID\").execute()\n",
        "print(\"Ticket accepted:\", resp)\n"
      ]
    },
    {
      "cell_type": "markdown",
      "id": "8bf24318",
      "metadata": {
        "id": "8bf24318"
      },
      "source": [
        "## 🔔 Notifications"
      ]
    },
    {
      "cell_type": "code",
      "execution_count": null,
      "id": "10c737dd",
      "metadata": {
        "id": "10c737dd"
      },
      "outputs": [],
      "source": [
        "\n",
        "# Insert a notification for a user\n",
        "notif_payload = {\n",
        "    \"user_id\": \"VILLAGE_PROFILE_UUID\",  # replace with village profile id\n",
        "    \"type\": \"ticket_accepted\",\n",
        "    \"payload\": {\"ticketId\": \"TICKET_UUID\", \"ngoId\": \"NGO_PROFILE_UUID\"}\n",
        "}\n",
        "resp = supabase.table(\"notifications\").insert([notif_payload]).execute()\n",
        "print(\"Notification inserted:\", resp)\n"
      ]
    },
    {
      "cell_type": "code",
      "execution_count": null,
      "id": "ae85ff31",
      "metadata": {
        "id": "ae85ff31"
      },
      "outputs": [],
      "source": [
        "\n",
        "# Fetch notifications for user\n",
        "resp = supabase.table(\"notifications\").select(\"*\").eq(\"user_id\", \"VILLAGE_PROFILE_UUID\").execute()\n",
        "print(\"Notifications:\", resp)\n"
      ]
    }
  ],
  "metadata": {
    "colab": {
      "provenance": [],
      "include_colab_link": true
    }
  },
  "nbformat": 4,
  "nbformat_minor": 5
}